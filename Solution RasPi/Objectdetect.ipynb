{
 "cells": [
  {
   "cell_type": "code",
   "execution_count": 7,
   "metadata": {},
   "outputs": [],
   "source": [
    "# import the necessary packages\n",
    "from __future__ import print_function\n",
    "from imutils import perspective\n",
    "from imutils import contours\n",
    "import numpy as np\n",
    "import argparse\n",
    "import imutils\n",
    "import cv2"
   ]
  },
  {
   "cell_type": "code",
   "execution_count": 8,
   "metadata": {},
   "outputs": [],
   "source": [
    "def order_points_old(pts):\n",
    "    # initialize a list of coordinates that will be ordered\n",
    "    # such that the first entry in the list is the top-left,\n",
    "    # the second entry is the top-right, the third is the\n",
    "    # bottom-right, and the fourth is the bottom-left\n",
    "    rect = np.zeros((4, 2), dtype=\"float32\")\n",
    "\n",
    "    # the top-left point will have the smallest sum, whereas\n",
    "    # the bottom-right point will have the largest sum\n",
    "    s = pts.sum(axis=1)\n",
    "    rect[0] = pts[np.argmin(s)]\n",
    "    rect[2] = pts[np.argmax(s)]\n",
    "\n",
    "    # now, compute the difference between the points, the\n",
    "    # top-right point will have the smallest difference,\n",
    "    # whereas the bottom-left will have the largest difference\n",
    "    diff = np.diff(pts, axis=1)\n",
    "    rect[1] = pts[np.argmin(diff)]\n",
    "    rect[3] = pts[np.argmax(diff)]\n",
    "\n",
    "    # return the ordered coordinates\n",
    "    return rect\n",
    "\n",
    "\n"
   ]
  },
  {
   "cell_type": "code",
   "execution_count": 9,
   "metadata": {},
   "outputs": [],
   "source": [
    "# load our input image, convert it to grayscale, and blur it slightly\n",
    "image = cv2.imread(\"scanfoto.jpg\")\n",
    "#image = frameRGB\n",
    "gray = cv2.cvtColor(image, cv2.COLOR_BGR2GRAY)\n",
    "gray = cv2.GaussianBlur(gray, (7, 7), 0)"
   ]
  },
  {
   "cell_type": "code",
   "execution_count": 10,
   "metadata": {},
   "outputs": [],
   "source": [
    "\n",
    "\n",
    "# perform edge detection, then perform a dilation + erosion to\n",
    "# close gaps in between object edges\n",
    "edged = cv2.Canny(gray, 50, 100)\n",
    "edged = cv2.dilate(edged, None, iterations=1)\n",
    "edged = cv2.erode(edged, None, iterations=1)\n",
    "\n",
    "# find contours in the edge map\n",
    "cnts = cv2.findContours(edged.copy(), cv2.RETR_EXTERNAL,\n",
    "\tcv2.CHAIN_APPROX_SIMPLE)\n",
    "cnts = imutils.grab_contours(cnts)\n",
    "\n",
    "# sort the contours from left-to-right and initialize the bounding box\n",
    "# point colors\n",
    "(cnts, _) = contours.sort_contours(cnts)\n",
    "colors = ((0, 0, 255), (240, 0, 159), (255, 0, 0), (255, 255, 0))"
   ]
  },
  {
   "cell_type": "code",
   "execution_count": 11,
   "metadata": {
    "scrolled": false
   },
   "outputs": [
    {
     "name": "stdout",
     "output_type": "stream",
     "text": [
      "Object #1:\n",
      "[[149 423]\n",
      " [ 38 344]\n",
      " [209 104]\n",
      " [320 183]]\n",
      "[[209 104]\n",
      " [320 183]\n",
      " [149 423]\n",
      " [ 38 344]]\n",
      "\n",
      "Object #5:\n",
      "[[386 207]\n",
      " [359 189]\n",
      " [389 147]\n",
      " [416 166]]\n",
      "[[389 147]\n",
      " [416 166]\n",
      " [386 207]\n",
      " [359 189]]\n",
      "\n",
      "Object #6:\n",
      "[[411 339]\n",
      " [379 304]\n",
      " [401 284]\n",
      " [433 320]]\n",
      "[[379 304]\n",
      " [401 284]\n",
      " [433 320]\n",
      " [411 339]]\n",
      "\n"
     ]
    }
   ],
   "source": [
    "# loop over the contours individually\n",
    "for (i, c) in enumerate(cnts):\n",
    "\t# if the contour is not sufficiently large, ignore it\n",
    "\tif cv2.contourArea(c) < 100:\n",
    "\t\tcontinue\n",
    "\n",
    "\t# compute the rotated bounding box of the contour, then\n",
    "\t# draw the contours\n",
    "\tbox = cv2.minAreaRect(c)\n",
    "\tbox = cv2.cv.BoxPoints(box) if imutils.is_cv2() else cv2.boxPoints(box)\n",
    "\tbox = np.array(box, dtype=\"int\")\n",
    "\tcv2.drawContours(image, [box], -1, (0, 255, 0), 2)\n",
    "\n",
    "\t# show the original coordinates\n",
    "\tprint(\"Object #{}:\".format(i + 1))\n",
    "\tprint(box)\n",
    "\n",
    "\t# order the points in the contour such that they appear\n",
    "\t# in top-left, top-right, bottom-right, and bottom-left\n",
    "\t# order, then draw the outline of the rotated bounding\n",
    "\t# box\n",
    "\trect = order_points_old(box)\n",
    "    #rect = perspective.order_points(box)\n",
    "    \n",
    "\n",
    "\t# check to see if the new method should be used for\n",
    "\t# ordering the coordinates\n",
    "#\tif args[\"new\"] > 0:\n",
    "#rect = perspective.order_points(box)\n",
    "\n",
    "\t# show the re-ordered coordinates\n",
    "\tprint(rect.astype(\"int\"))\n",
    "\tprint(\"\")"
   ]
  },
  {
   "cell_type": "code",
   "execution_count": 26,
   "metadata": {},
   "outputs": [
    {
     "ename": "error",
     "evalue": "OpenCV(3.4.2) C:\\Miniconda3\\conda-bld\\opencv-suite_1534379934306\\work\\modules\\imgproc\\src\\contours.cpp:199: error: (-210:Unsupported format or combination of formats) [Start]FindContours supports only CV_8UC1 images when mode != CV_RETR_FLOODFILL otherwise supports CV_32SC1 images only in function 'cvStartFindContours_Impl'\n",
     "output_type": "error",
     "traceback": [
      "\u001b[1;31m---------------------------------------------------------------------------\u001b[0m",
      "\u001b[1;31merror\u001b[0m                                     Traceback (most recent call last)",
      "\u001b[1;32m<ipython-input-26-2db9811fb8bf>\u001b[0m in \u001b[0;36m<module>\u001b[1;34m()\u001b[0m\n\u001b[0;32m     13\u001b[0m \u001b[0mimg\u001b[0m \u001b[1;33m=\u001b[0m \u001b[0mimage\u001b[0m\u001b[1;33m\u001b[0m\u001b[0m\n\u001b[0;32m     14\u001b[0m \u001b[1;31m# Find some contours\u001b[0m\u001b[1;33m\u001b[0m\u001b[1;33m\u001b[0m\u001b[0m\n\u001b[1;32m---> 15\u001b[1;33m \u001b[0mthresh2\u001b[0m\u001b[1;33m,\u001b[0m \u001b[0mcontours\u001b[0m\u001b[1;33m,\u001b[0m \u001b[0mhierarchy\u001b[0m \u001b[1;33m=\u001b[0m \u001b[0mcv2\u001b[0m\u001b[1;33m.\u001b[0m\u001b[0mfindContours\u001b[0m\u001b[1;33m(\u001b[0m\u001b[0mimg\u001b[0m\u001b[1;33m,\u001b[0m \u001b[0mcv2\u001b[0m\u001b[1;33m.\u001b[0m\u001b[0mRETR_TREE\u001b[0m\u001b[1;33m,\u001b[0m \u001b[0mcv2\u001b[0m\u001b[1;33m.\u001b[0m\u001b[0mCHAIN_APPROX_SIMPLE\u001b[0m\u001b[1;33m)\u001b[0m\u001b[1;33m\u001b[0m\u001b[0m\n\u001b[0m\u001b[0;32m     16\u001b[0m \u001b[1;31m# Get rotated bounding box\u001b[0m\u001b[1;33m\u001b[0m\u001b[1;33m\u001b[0m\u001b[0m\n\u001b[0;32m     17\u001b[0m \u001b[0mrect\u001b[0m \u001b[1;33m=\u001b[0m \u001b[0mcv2\u001b[0m\u001b[1;33m.\u001b[0m\u001b[0mminAreaRect\u001b[0m\u001b[1;33m(\u001b[0m\u001b[0mcontours\u001b[0m\u001b[1;33m[\u001b[0m\u001b[1;36m0\u001b[0m\u001b[1;33m]\u001b[0m\u001b[1;33m)\u001b[0m\u001b[1;33m\u001b[0m\u001b[0m\n",
      "\u001b[1;31merror\u001b[0m: OpenCV(3.4.2) C:\\Miniconda3\\conda-bld\\opencv-suite_1534379934306\\work\\modules\\imgproc\\src\\contours.cpp:199: error: (-210:Unsupported format or combination of formats) [Start]FindContours supports only CV_8UC1 images when mode != CV_RETR_FLOODFILL otherwise supports CV_32SC1 images only in function 'cvStartFindContours_Impl'\n"
     ]
    }
   ],
   "source": [
    "def getSubImage(rect, src):\n",
    "    # Get center, size, and angle from rect\n",
    "    center, size, theta = rect\n",
    "    # Convert to int \n",
    "    center, size = tuple(map(int, center)), tuple(map(int, size))\n",
    "    # Get rotation matrix for rectangle\n",
    "    M = cv2.getRotationMatrix2D( center, theta, 1)\n",
    "    # Perform rotation on src image\n",
    "    dst = cv2.warpAffine(src, M, src.shape[:2])\n",
    "    out = cv2.getRectSubPix(dst, size, center)\n",
    "    return out\n",
    "\n",
    "img = cv2.imread('img.jpg')\n",
    "# Find some contours\n",
    "thresh2, contours, hierarchy = cv2.findContours(img, cv2.RETR_TREE, cv2.CHAIN_APPROX_SIMPLE)\n",
    "# Get rotated bounding box\n",
    "rect = cv2.minAreaRect(contours[0])\n",
    "# Extract subregion\n",
    "out = getSubImage(rect, img)\n",
    "# Save image\n",
    "cv2.imwrite('out.jpg', out)"
   ]
  },
  {
   "cell_type": "code",
   "execution_count": null,
   "metadata": {},
   "outputs": [],
   "source": [
    "\t# loop over the original points and draw them\n",
    "\tfor ((x, y), color) in zip(rect, colors):\n",
    "\t\tcv2.circle(image, (int(x), int(y)), 5, color, -1)\n",
    "\n",
    "\t# draw the object num at the top-left corner\n",
    "\tcv2.putText(image, \"Object #{}\".format(i + 1),\n",
    "\t\t(int(rect[0][0] - 15), int(rect[0][1] - 15)),\n",
    "\t\tcv2.FONT_HERSHEY_SIMPLEX, 0.55, (255, 255, 255), 2)\n",
    "    \n",
    "\t# show the image\n",
    "\tcv2.imshow(\"Image\", image)\n",
    "\tcv2.waitKey(0)"
   ]
  },
  {
   "cell_type": "code",
   "execution_count": null,
   "metadata": {},
   "outputs": [],
   "source": []
  }
 ],
 "metadata": {
  "kernelspec": {
   "display_name": "Python 3",
   "language": "python",
   "name": "python3"
  },
  "language_info": {
   "codemirror_mode": {
    "name": "ipython",
    "version": 3
   },
   "file_extension": ".py",
   "mimetype": "text/x-python",
   "name": "python",
   "nbconvert_exporter": "python",
   "pygments_lexer": "ipython3",
   "version": "3.6.6"
  }
 },
 "nbformat": 4,
 "nbformat_minor": 2
}
