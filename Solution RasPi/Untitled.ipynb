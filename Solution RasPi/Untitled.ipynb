{
 "cells": [
  {
   "cell_type": "code",
   "execution_count": 4,
   "metadata": {},
   "outputs": [
    {
     "data": {
      "text/plain": [
       "True"
      ]
     },
     "execution_count": 4,
     "metadata": {},
     "output_type": "execute_result"
    }
   ],
   "source": [
    "import cv2\n",
    "import numpy as np\n",
    "\n",
    "img = cv2.imread(\"scanfoto.jpg\")  #load an image of a single battery\n",
    "img_gs = cv2.cvtColor(img, cv2.COLOR_BGR2GRAY)  #convert to grayscale\n",
    "\n",
    "#inverted binary threshold: 1 for the battery, 0 for the background\n",
    "_, thresh = cv2.threshold(img_gs, 250, 1, cv2.THRESH_BINARY_INV)\n",
    "\n",
    "#From a matrix of pixels to a matrix of coordinates of non-black points.\n",
    "#(note: mind the col/row order, pixels are accessed as [row, col]\n",
    "#but when we draw, it's (x, y), so have to swap here or there)\n",
    "mat = np.argwhere(thresh != 0)\n",
    "\n",
    "#let's swap here... (e. g. [[row, col], ...] to [[col, row], ...])\n",
    "mat[:, [0, 1]] = mat[:, [1, 0]]\n",
    "#or we could've swapped at the end, when drawing\n",
    "#(e. g. center[0], center[1] = center[1], center[0], same for endpoint1 and endpoint2),\n",
    "#probably better performance-wise\n",
    "\n",
    "\n",
    "mat = np.array(mat).astype(np.float32) #have to convert type for PCA\n",
    "\n",
    "#mean (e. g. the geometrical center) \n",
    "#and eigenvectors (e. g. directions of principal components)\n",
    "m, e = cv2.PCACompute(mat, mean = np.array([]))\n",
    "\n",
    "#now to draw: let's scale our primary axis by 100, \n",
    "#and the secondary by 50\n",
    "\n",
    "center = tuple(m[0])\n",
    "endpoint1 = tuple(m[0] + e[0]*100)\n",
    "endpoint2 = tuple(m[0] + e[1]*50)\n",
    "\n",
    "red_color = (0, 0, 255)\n",
    "cv2.circle(img, center, 5, red_color)\n",
    "cv2.line(img, center, endpoint1, red_color)\n",
    "cv2.line(img, center, endpoint2, red_color)\n",
    "cv2.imwrite(\"out.png\", img)"
   ]
  }
 ],
 "metadata": {
  "kernelspec": {
   "display_name": "Python 3",
   "language": "python",
   "name": "python3"
  },
  "language_info": {
   "codemirror_mode": {
    "name": "ipython",
    "version": 3
   },
   "file_extension": ".py",
   "mimetype": "text/x-python",
   "name": "python",
   "nbconvert_exporter": "python",
   "pygments_lexer": "ipython3",
   "version": "3.6.6"
  }
 },
 "nbformat": 4,
 "nbformat_minor": 2
}
